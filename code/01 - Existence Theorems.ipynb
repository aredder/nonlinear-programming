{
 "cells": [
  {
   "cell_type": "markdown",
   "metadata": {
    "collapsed": true
   },
   "source": [
    "## Exitence Theorems\n",
    "\n",
    "This notebook exemplifies theory and examples on Existence of Minimal Points in Infinite-Dimensinal Spaces."
   ]
  },
  {
   "cell_type": "markdown",
   "metadata": {},
   "source": [
    "### Definitions"
   ]
  },
  {
   "cell_type": "markdown",
   "metadata": {},
   "source": [
    "$\\textbf{Definition 1.1}: \\quad$ Let $(X,||.||$ be a normal space. A sequence $(x_n)_{n \\in \\mathbb{N}}$ of elements $X$ is called $\\textit{weakly convergent}$ to some $\\bar{x} \\in X$ if for all continous linear functionals $f$ on $X$ \n",
    "\\begin{equation}\n",
    "\\underset{n \\rightarrow \\infty}{lim} f(x_n) = f(\\bar{x}).\n",
    "\\end{equation}\n",
    "In this case $\\bar{x}$ is called $\\textit{weak limit}$ of the sequence $(x_n)_{n \\in \\mathbb{N}}$."
   ]
  },
  {
   "cell_type": "code",
   "execution_count": null,
   "metadata": {},
   "outputs": [],
   "source": []
  }
 ],
 "metadata": {
  "kernelspec": {
   "display_name": "Python 3",
   "language": "python",
   "name": "python3"
  },
  "language_info": {
   "codemirror_mode": {
    "name": "ipython",
    "version": 3
   },
   "file_extension": ".py",
   "mimetype": "text/x-python",
   "name": "python",
   "nbconvert_exporter": "python",
   "pygments_lexer": "ipython3",
   "version": "3.6.3"
  }
 },
 "nbformat": 4,
 "nbformat_minor": 1
}
